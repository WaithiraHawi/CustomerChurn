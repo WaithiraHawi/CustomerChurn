{
  "cells": [
    {
      "cell_type": "markdown",
      "metadata": {
        "id": "view-in-github",
        "colab_type": "text"
      },
      "source": [
        "<a href=\"https://colab.research.google.com/github/WaithiraHawi/LuxProject/blob/main/Weathr_dataset.ipynb\" target=\"_parent\"><img src=\"https://colab.research.google.com/assets/colab-badge.svg\" alt=\"Open In Colab\"/></a>"
      ]
    },
    {
      "cell_type": "code",
      "execution_count": null,
      "id": "e80126cb-1d68-430e-bf7a-a53bf0bc6ef4",
      "metadata": {
        "id": "e80126cb-1d68-430e-bf7a-a53bf0bc6ef4"
      },
      "outputs": [],
      "source": [
        "import pandas as pd\n",
        "import numpy as np\n",
        "#Loading dataset\n",
        "weather_file1= 'Weather_dataset.csv'\n",
        "Weathrdt = pd.read_csv(weather_file1)"
      ]
    },
    {
      "cell_type": "code",
      "execution_count": null,
      "id": "ee8c2964-151a-4a6d-81d5-2165baac77e6",
      "metadata": {
        "id": "ee8c2964-151a-4a6d-81d5-2165baac77e6",
        "outputId": "acc7f84b-62d7-4fd6-9ee1-7aff7f1a45eb"
      },
      "outputs": [
        {
          "name": "stdout",
          "output_type": "stream",
          "text": [
            "Top 10 Rows:\n",
            "       Date/Time  Temp_C  Dew Point Temp_C  Rel Hum_%  Wind Speed_km/h  \\\n",
            "0  1/1/2012 0:00    -1.8              -3.9         86                4   \n",
            "1  1/1/2012 1:00    -1.8              -3.7         87                4   \n",
            "2  1/1/2012 2:00    -1.8              -3.4         89                7   \n",
            "3  1/1/2012 3:00    -1.5              -3.2         88                6   \n",
            "4  1/1/2012 4:00    -1.5              -3.3         88                7   \n",
            "5  1/1/2012 5:00    -1.4              -3.3         87                9   \n",
            "6  1/1/2012 6:00    -1.5              -3.1         89                7   \n",
            "7  1/1/2012 7:00    -1.4              -3.6         85                7   \n",
            "8  1/1/2012 8:00    -1.4              -3.6         85                9   \n",
            "9  1/1/2012 9:00    -1.3              -3.1         88               15   \n",
            "\n",
            "   Visibility_km  Press_kPa               Weather  \n",
            "0            8.0     101.24                   Fog  \n",
            "1            8.0     101.24                   Fog  \n",
            "2            4.0     101.26  Freezing Drizzle,Fog  \n",
            "3            4.0     101.27  Freezing Drizzle,Fog  \n",
            "4            4.8     101.23                   Fog  \n",
            "5            6.4     101.27                   Fog  \n",
            "6            6.4     101.29                   Fog  \n",
            "7            8.0     101.26                   Fog  \n",
            "8            8.0     101.23                   Fog  \n",
            "9            4.0     101.20                   Fog  \n"
          ]
        }
      ],
      "source": [
        "# Displaying the top 10 rows\n",
        "top_10_rows = Weathrdt.head(10)\n",
        "print(\"Top 10 Rows:\")\n",
        "print(top_10_rows)"
      ]
    },
    {
      "cell_type": "code",
      "execution_count": null,
      "id": "22fc48df-c89b-4806-b36c-da10dbcd3c18",
      "metadata": {
        "id": "22fc48df-c89b-4806-b36c-da10dbcd3c18",
        "outputId": "d4ea1ce4-f3d3-4379-f4b4-d03c17ac2469"
      },
      "outputs": [
        {
          "name": "stdout",
          "output_type": "stream",
          "text": [
            "\n",
            "Last 10 Rows:\n",
            "             Date/Time  Temp_C  Dew Point Temp_C  Rel Hum_%  Wind Speed_km/h  \\\n",
            "8774  12/31/2012 14:00    -3.4              -5.7         84                6   \n",
            "8775  12/31/2012 15:00    -2.3              -4.6         84                9   \n",
            "8776  12/31/2012 16:00    -1.4              -4.0         82               13   \n",
            "8777  12/31/2012 17:00    -1.1              -3.3         85               19   \n",
            "8778  12/31/2012 18:00    -1.3              -3.1         88               17   \n",
            "8779  12/31/2012 19:00     0.1              -2.7         81               30   \n",
            "8780  12/31/2012 20:00     0.2              -2.4         83               24   \n",
            "8781  12/31/2012 21:00    -0.5              -1.5         93               28   \n",
            "8782  12/31/2012 22:00    -0.2              -1.8         89               28   \n",
            "8783  12/31/2012 23:00     0.0              -2.1         86               30   \n",
            "\n",
            "      Visibility_km  Press_kPa Weather  \n",
            "8774           11.3     100.57    Snow  \n",
            "8775            9.7     100.47    Snow  \n",
            "8776           12.9     100.40    Snow  \n",
            "8777            9.7     100.30    Snow  \n",
            "8778            9.7     100.19    Snow  \n",
            "8779            9.7     100.13    Snow  \n",
            "8780            9.7     100.03    Snow  \n",
            "8781            4.8      99.95    Snow  \n",
            "8782            9.7      99.91    Snow  \n",
            "8783           11.3      99.89    Snow  \n"
          ]
        }
      ],
      "source": [
        "# Displaying the last 10 rows\n",
        "last_10_rows = Weathrdt.tail(10)\n",
        "print(\"\\nLast 10 Rows:\")\n",
        "print(last_10_rows)"
      ]
    },
    {
      "cell_type": "code",
      "execution_count": null,
      "id": "f59d4177-672c-4481-b03f-fb14bd10b384",
      "metadata": {
        "id": "f59d4177-672c-4481-b03f-fb14bd10b384",
        "outputId": "a7363bcf-8cbe-4bc7-8cef-19f960582fbb"
      },
      "outputs": [
        {
          "name": "stdout",
          "output_type": "stream",
          "text": [
            "\n",
            "Total Rows: 8784\n",
            "Total Columns: 8\n"
          ]
        }
      ],
      "source": [
        "# Getting total number of rows and columns in the dataset Weather\n",
        "total_rows, total_columns = Weathrdt.shape\n",
        "print(f\"\\nTotal Rows: {total_rows}\")\n",
        "print(f\"Total Columns: {total_columns}\")"
      ]
    },
    {
      "cell_type": "code",
      "execution_count": null,
      "id": "31bd4156-45f3-4ba7-82e9-8019775fa8cd",
      "metadata": {
        "id": "31bd4156-45f3-4ba7-82e9-8019775fa8cd",
        "outputId": "8af2c79e-393e-46f2-e2b1-9861b5eceeb8"
      },
      "outputs": [
        {
          "data": {
            "text/html": [
              "<div>\n",
              "<style scoped>\n",
              "    .dataframe tbody tr th:only-of-type {\n",
              "        vertical-align: middle;\n",
              "    }\n",
              "\n",
              "    .dataframe tbody tr th {\n",
              "        vertical-align: top;\n",
              "    }\n",
              "\n",
              "    .dataframe thead th {\n",
              "        text-align: right;\n",
              "    }\n",
              "</style>\n",
              "<table border=\"1\" class=\"dataframe\">\n",
              "  <thead>\n",
              "    <tr style=\"text-align: right;\">\n",
              "      <th></th>\n",
              "      <th>Date/Time</th>\n",
              "      <th>Temp_C</th>\n",
              "      <th>Dew Point Temp_C</th>\n",
              "      <th>Rel Hum_%</th>\n",
              "      <th>Wind Speed_km/h</th>\n",
              "      <th>Visibility_km</th>\n",
              "      <th>Press_kPa</th>\n",
              "      <th>Weather</th>\n",
              "    </tr>\n",
              "  </thead>\n",
              "  <tbody>\n",
              "    <tr>\n",
              "      <th>0</th>\n",
              "      <td>1/1/2012 0:00</td>\n",
              "      <td>-1.8</td>\n",
              "      <td>-3.9</td>\n",
              "      <td>86</td>\n",
              "      <td>4</td>\n",
              "      <td>8.0</td>\n",
              "      <td>101.24</td>\n",
              "      <td>Fog</td>\n",
              "    </tr>\n",
              "    <tr>\n",
              "      <th>1</th>\n",
              "      <td>1/1/2012 1:00</td>\n",
              "      <td>-1.8</td>\n",
              "      <td>-3.7</td>\n",
              "      <td>87</td>\n",
              "      <td>4</td>\n",
              "      <td>8.0</td>\n",
              "      <td>101.24</td>\n",
              "      <td>Fog</td>\n",
              "    </tr>\n",
              "    <tr>\n",
              "      <th>2</th>\n",
              "      <td>1/1/2012 2:00</td>\n",
              "      <td>-1.8</td>\n",
              "      <td>-3.4</td>\n",
              "      <td>89</td>\n",
              "      <td>7</td>\n",
              "      <td>4.0</td>\n",
              "      <td>101.26</td>\n",
              "      <td>Freezing Drizzle,Fog</td>\n",
              "    </tr>\n",
              "    <tr>\n",
              "      <th>3</th>\n",
              "      <td>1/1/2012 3:00</td>\n",
              "      <td>-1.5</td>\n",
              "      <td>-3.2</td>\n",
              "      <td>88</td>\n",
              "      <td>6</td>\n",
              "      <td>4.0</td>\n",
              "      <td>101.27</td>\n",
              "      <td>Freezing Drizzle,Fog</td>\n",
              "    </tr>\n",
              "    <tr>\n",
              "      <th>4</th>\n",
              "      <td>1/1/2012 4:00</td>\n",
              "      <td>-1.5</td>\n",
              "      <td>-3.3</td>\n",
              "      <td>88</td>\n",
              "      <td>7</td>\n",
              "      <td>4.8</td>\n",
              "      <td>101.23</td>\n",
              "      <td>Fog</td>\n",
              "    </tr>\n",
              "  </tbody>\n",
              "</table>\n",
              "</div>"
            ],
            "text/plain": [
              "       Date/Time  Temp_C  Dew Point Temp_C  Rel Hum_%  Wind Speed_km/h  \\\n",
              "0  1/1/2012 0:00    -1.8              -3.9         86                4   \n",
              "1  1/1/2012 1:00    -1.8              -3.7         87                4   \n",
              "2  1/1/2012 2:00    -1.8              -3.4         89                7   \n",
              "3  1/1/2012 3:00    -1.5              -3.2         88                6   \n",
              "4  1/1/2012 4:00    -1.5              -3.3         88                7   \n",
              "\n",
              "   Visibility_km  Press_kPa               Weather  \n",
              "0            8.0     101.24                   Fog  \n",
              "1            8.0     101.24                   Fog  \n",
              "2            4.0     101.26  Freezing Drizzle,Fog  \n",
              "3            4.0     101.27  Freezing Drizzle,Fog  \n",
              "4            4.8     101.23                   Fog  "
            ]
          },
          "execution_count": 45,
          "metadata": {},
          "output_type": "execute_result"
        }
      ],
      "source": [
        "Weathrdt.head()"
      ]
    },
    {
      "cell_type": "code",
      "execution_count": null,
      "id": "977a6e69-f53e-4817-8270-467fe4eecf15",
      "metadata": {
        "id": "977a6e69-f53e-4817-8270-467fe4eecf15",
        "outputId": "41333382-3484-4d17-9405-85d272b3543d"
      },
      "outputs": [
        {
          "data": {
            "text/html": [
              "<div>\n",
              "<style scoped>\n",
              "    .dataframe tbody tr th:only-of-type {\n",
              "        vertical-align: middle;\n",
              "    }\n",
              "\n",
              "    .dataframe tbody tr th {\n",
              "        vertical-align: top;\n",
              "    }\n",
              "\n",
              "    .dataframe thead th {\n",
              "        text-align: right;\n",
              "    }\n",
              "</style>\n",
              "<table border=\"1\" class=\"dataframe\">\n",
              "  <thead>\n",
              "    <tr style=\"text-align: right;\">\n",
              "      <th></th>\n",
              "      <th>Temp_C</th>\n",
              "      <th>Dew Point Temp_C</th>\n",
              "      <th>Rel Hum_%</th>\n",
              "      <th>Wind Speed_km/h</th>\n",
              "      <th>Visibility_km</th>\n",
              "      <th>Press_kPa</th>\n",
              "    </tr>\n",
              "  </thead>\n",
              "  <tbody>\n",
              "    <tr>\n",
              "      <th>count</th>\n",
              "      <td>8784.000000</td>\n",
              "      <td>8784.000000</td>\n",
              "      <td>8784.000000</td>\n",
              "      <td>8784.000000</td>\n",
              "      <td>8784.000000</td>\n",
              "      <td>8784.000000</td>\n",
              "    </tr>\n",
              "    <tr>\n",
              "      <th>mean</th>\n",
              "      <td>8.798144</td>\n",
              "      <td>2.555294</td>\n",
              "      <td>67.431694</td>\n",
              "      <td>14.945469</td>\n",
              "      <td>27.664447</td>\n",
              "      <td>101.051623</td>\n",
              "    </tr>\n",
              "    <tr>\n",
              "      <th>std</th>\n",
              "      <td>11.687883</td>\n",
              "      <td>10.883072</td>\n",
              "      <td>16.918881</td>\n",
              "      <td>8.688696</td>\n",
              "      <td>12.622688</td>\n",
              "      <td>0.844005</td>\n",
              "    </tr>\n",
              "    <tr>\n",
              "      <th>min</th>\n",
              "      <td>-23.300000</td>\n",
              "      <td>-28.500000</td>\n",
              "      <td>18.000000</td>\n",
              "      <td>0.000000</td>\n",
              "      <td>0.200000</td>\n",
              "      <td>97.520000</td>\n",
              "    </tr>\n",
              "    <tr>\n",
              "      <th>25%</th>\n",
              "      <td>0.100000</td>\n",
              "      <td>-5.900000</td>\n",
              "      <td>56.000000</td>\n",
              "      <td>9.000000</td>\n",
              "      <td>24.100000</td>\n",
              "      <td>100.560000</td>\n",
              "    </tr>\n",
              "    <tr>\n",
              "      <th>50%</th>\n",
              "      <td>9.300000</td>\n",
              "      <td>3.300000</td>\n",
              "      <td>68.000000</td>\n",
              "      <td>13.000000</td>\n",
              "      <td>25.000000</td>\n",
              "      <td>101.070000</td>\n",
              "    </tr>\n",
              "    <tr>\n",
              "      <th>75%</th>\n",
              "      <td>18.800000</td>\n",
              "      <td>11.800000</td>\n",
              "      <td>81.000000</td>\n",
              "      <td>20.000000</td>\n",
              "      <td>25.000000</td>\n",
              "      <td>101.590000</td>\n",
              "    </tr>\n",
              "    <tr>\n",
              "      <th>max</th>\n",
              "      <td>33.000000</td>\n",
              "      <td>24.400000</td>\n",
              "      <td>100.000000</td>\n",
              "      <td>83.000000</td>\n",
              "      <td>48.300000</td>\n",
              "      <td>103.650000</td>\n",
              "    </tr>\n",
              "  </tbody>\n",
              "</table>\n",
              "</div>"
            ],
            "text/plain": [
              "            Temp_C  Dew Point Temp_C    Rel Hum_%  Wind Speed_km/h  \\\n",
              "count  8784.000000       8784.000000  8784.000000      8784.000000   \n",
              "mean      8.798144          2.555294    67.431694        14.945469   \n",
              "std      11.687883         10.883072    16.918881         8.688696   \n",
              "min     -23.300000        -28.500000    18.000000         0.000000   \n",
              "25%       0.100000         -5.900000    56.000000         9.000000   \n",
              "50%       9.300000          3.300000    68.000000        13.000000   \n",
              "75%      18.800000         11.800000    81.000000        20.000000   \n",
              "max      33.000000         24.400000   100.000000        83.000000   \n",
              "\n",
              "       Visibility_km    Press_kPa  \n",
              "count    8784.000000  8784.000000  \n",
              "mean       27.664447   101.051623  \n",
              "std        12.622688     0.844005  \n",
              "min         0.200000    97.520000  \n",
              "25%        24.100000   100.560000  \n",
              "50%        25.000000   101.070000  \n",
              "75%        25.000000   101.590000  \n",
              "max        48.300000   103.650000  "
            ]
          },
          "execution_count": 47,
          "metadata": {},
          "output_type": "execute_result"
        }
      ],
      "source": [
        "Weathrdt.describe()"
      ]
    },
    {
      "cell_type": "code",
      "execution_count": null,
      "id": "4708a1f0-f543-4c41-8b56-dda334f5b192",
      "metadata": {
        "id": "4708a1f0-f543-4c41-8b56-dda334f5b192",
        "outputId": "f0b8dcf8-69a5-4428-bc7d-6b9a5cf8111e"
      },
      "outputs": [
        {
          "name": "stdout",
          "output_type": "stream",
          "text": [
            "             Date/Time  Temp_C  Dew Point Temp_C  Rel Hum_%  Wind Speed_km/h  \\\n",
            "67      1/3/2012 19:00   -16.9             -24.8         50               24   \n",
            "114     1/5/2012 18:00    -7.1             -14.4         56               11   \n",
            "115     1/5/2012 19:00    -9.2             -15.4         61                7   \n",
            "116     1/5/2012 20:00    -9.8             -15.7         62                9   \n",
            "117     1/5/2012 21:00    -9.0             -14.8         63               13   \n",
            "...                ...     ...               ...        ...              ...   \n",
            "8646   12/26/2012 6:00   -13.4             -14.8         89                4   \n",
            "8698  12/28/2012 10:00    -6.1              -8.6         82               19   \n",
            "8713   12/29/2012 1:00   -11.9             -13.6         87               11   \n",
            "8714   12/29/2012 2:00   -11.8             -13.1         90               13   \n",
            "8756  12/30/2012 20:00   -13.8             -16.5         80               24   \n",
            "\n",
            "      Visibility_km  Press_kPa Weather  \n",
            "67             25.0     101.74   Clear  \n",
            "114            25.0     100.71   Clear  \n",
            "115            25.0     100.80   Clear  \n",
            "116            25.0     100.83   Clear  \n",
            "117            25.0     100.83   Clear  \n",
            "...             ...        ...     ...  \n",
            "8646           25.0     102.47   Clear  \n",
            "8698           24.1     101.27   Clear  \n",
            "8713           25.0     101.31   Clear  \n",
            "8714           25.0     101.33   Clear  \n",
            "8756           25.0     101.52   Clear  \n",
            "\n",
            "[1326 rows x 8 columns]\n"
          ]
        }
      ],
      "source": [
        "# Filter the records where the weather is exactly \"Clear\"\n",
        "clear_weather_records = Weathrdt[Weathrdt['Weather'] == 'Clear']\n",
        "\n",
        "# Display the filtered records\n",
        "print(clear_weather_records)\n"
      ]
    },
    {
      "cell_type": "code",
      "execution_count": null,
      "id": "b6156cea-a791-4cd6-ad88-b4227c535289",
      "metadata": {
        "id": "b6156cea-a791-4cd6-ad88-b4227c535289",
        "outputId": "5830937f-2858-49bf-8a55-e5b902d5d0dc"
      },
      "outputs": [
        {
          "name": "stdout",
          "output_type": "stream",
          "text": [
            "The wind speed was exactly 4 km/h 474 times.\n"
          ]
        }
      ],
      "source": [
        "# Find the number of times the wind speed was exactly 4 km/h\n",
        "wind_speed_4_count = Weathrdt[Weathrdt['Wind Speed_km/h'] == 4].shape[0]\n",
        "# Display the count\n",
        "print(\"The wind speed was exactly 4 km/h\", wind_speed_4_count, \"times.\")\n"
      ]
    },
    {
      "cell_type": "code",
      "execution_count": null,
      "id": "0cdaf446-ac07-4c52-aa1a-60ef487d4a8f",
      "metadata": {
        "id": "0cdaf446-ac07-4c52-aa1a-60ef487d4a8f",
        "outputId": "50eb012f-1eb0-4435-857a-439cc8ade53d"
      },
      "outputs": [
        {
          "name": "stdout",
          "output_type": "stream",
          "text": [
            "Date/Time           0\n",
            "Temp_C              0\n",
            "Dew Point Temp_C    0\n",
            "Rel Hum_%           0\n",
            "Wind Speed_km/h     0\n",
            "Visibility_km       0\n",
            "Press_kPa           0\n",
            "Weather             0\n",
            "dtype: int64\n"
          ]
        }
      ],
      "source": [
        "# Check for NULL values in the dataset\n",
        "null_values = Weathrdt.isnull().sum()\n",
        "\n",
        "# Display the count of NULL values for each column\n",
        "print(null_values)"
      ]
    },
    {
      "cell_type": "code",
      "execution_count": null,
      "id": "9aeb2083-5649-469e-b291-b42abb615cd4",
      "metadata": {
        "id": "9aeb2083-5649-469e-b291-b42abb615cd4",
        "outputId": "b52944e3-d5fa-4437-d25a-b66a8216b89d"
      },
      "outputs": [
        {
          "name": "stdout",
          "output_type": "stream",
          "text": [
            "       Date/Time  Temp_C  Dew Point Temp_C  Rel Hum_%  Wind Speed_km/h  \\\n",
            "0  1/1/2012 0:00    -1.8              -3.9         86                4   \n",
            "1  1/1/2012 1:00    -1.8              -3.7         87                4   \n",
            "2  1/1/2012 2:00    -1.8              -3.4         89                7   \n",
            "3  1/1/2012 3:00    -1.5              -3.2         88                6   \n",
            "4  1/1/2012 4:00    -1.5              -3.3         88                7   \n",
            "\n",
            "   Visibility_km  Press_kPa     Weather_Condition  \n",
            "0            8.0     101.24                   Fog  \n",
            "1            8.0     101.24                   Fog  \n",
            "2            4.0     101.26  Freezing Drizzle,Fog  \n",
            "3            4.0     101.27  Freezing Drizzle,Fog  \n",
            "4            4.8     101.23                   Fog  \n"
          ]
        }
      ],
      "source": [
        "# Rename the column \"Weather\" to \"Weather_Condition\"\n",
        "Weathrdt.rename(columns={\"Weather\": \"Weather_Condition\"}, inplace=True)\n",
        "\n",
        "# Display the first few rows to confirm the change\n",
        "print(Weathrdt.head())\n"
      ]
    },
    {
      "cell_type": "code",
      "execution_count": null,
      "id": "ae9e8e31-9b0e-4694-9f6e-ef67f9442a7e",
      "metadata": {
        "id": "ae9e8e31-9b0e-4694-9f6e-ef67f9442a7e",
        "outputId": "2e1aa76f-97dc-4cae-f488-c2b53dec82d6"
      },
      "outputs": [
        {
          "name": "stdout",
          "output_type": "stream",
          "text": [
            "The mean visibility is: 27.664446721311478\n"
          ]
        }
      ],
      "source": [
        "# Calculate the mean visibility\n",
        "mean_visibility = Weathrdt['Visibility_km'].mean()\n",
        "\n",
        "# Display the mean visibility\n",
        "print(\"The mean visibility is:\", mean_visibility)\n"
      ]
    },
    {
      "cell_type": "code",
      "execution_count": null,
      "id": "2b2eeb41-e38e-4014-8d2d-640c17435e6f",
      "metadata": {
        "id": "2b2eeb41-e38e-4014-8d2d-640c17435e6f",
        "outputId": "b0834923-deab-47ab-d2cc-55b90d133e50"
      },
      "outputs": [
        {
          "name": "stdout",
          "output_type": "stream",
          "text": [
            "The number of records where wind speed is greater than 24 km/hr and visibility is equal to 25 km is: 308\n"
          ]
        }
      ],
      "source": [
        "# Filter the records where wind speed is greater than 24 km/hr and visibility is equal to 25 km\n",
        "filtered_records = Weathrdt[(Weathrdt['Wind Speed_km/h'] > 24) & (Weathrdt['Visibility_km'] == 25)]\n",
        "\n",
        "# Get the number of such records\n",
        "num_records = filtered_records.shape[0]\n",
        "\n",
        "# Display the number of records\n",
        "print(\"The number of records where wind speed is greater than 24 km/hr and visibility is equal to 25 km is:\", num_records)\n"
      ]
    },
    {
      "cell_type": "code",
      "execution_count": null,
      "id": "36c138b6-d5ee-47f4-b305-9b33d109408b",
      "metadata": {
        "id": "36c138b6-d5ee-47f4-b305-9b33d109408b",
        "outputId": "7d7cd5c9-d110-4e31-e9b1-15514592c944"
      },
      "outputs": [
        {
          "ename": "SyntaxError",
          "evalue": "'(' was never closed (893653574.py, line 2)",
          "output_type": "error",
          "traceback": [
            "\u001b[1;36m  Cell \u001b[1;32mIn[97], line 2\u001b[1;36m\u001b[0m\n\u001b[1;33m    mean_values_by_weather = (Weathrdt.select_dtypes('String').eq('NA').groupby('Weather_Condition').mean().Pipe(lambda ser : ser [ ser > 0])\u001b[0m\n\u001b[1;37m                             ^\u001b[0m\n\u001b[1;31mSyntaxError\u001b[0m\u001b[1;31m:\u001b[0m '(' was never closed\n"
          ]
        }
      ],
      "source": [
        "# Calculate the mean value of each column for each weather condition\n",
        "mean_values_by_weather = (Weathrdt.select_dtypes('String').eq('NA').groupby('Weather_Condition').mean().Pipe(lambda ser : ser [ ser > 0])\n",
        "print(mean_values_by_weather)"
      ]
    },
    {
      "cell_type": "code",
      "execution_count": null,
      "id": "736d0fff-226f-49a0-b99f-9c333a103a96",
      "metadata": {
        "id": "736d0fff-226f-49a0-b99f-9c333a103a96",
        "outputId": "0a796de6-8503-4e58-aece-f77e002e8706"
      },
      "outputs": [
        {
          "name": "stdout",
          "output_type": "stream",
          "text": [
            "             Date/Time  Temp_C  Dew Point Temp_C  Rel Hum_%  Wind Speed_km/h  \\\n",
            "106     1/5/2012 10:00    -6.0             -10.0         73               17   \n",
            "107     1/5/2012 11:00    -5.6             -10.2         70               22   \n",
            "108     1/5/2012 12:00    -4.7              -9.6         69               20   \n",
            "109     1/5/2012 13:00    -4.4              -9.7         66               26   \n",
            "110     1/5/2012 14:00    -5.1             -10.7         65               22   \n",
            "...                ...     ...               ...        ...              ...   \n",
            "8749  12/30/2012 13:00   -12.4             -16.2         73               37   \n",
            "8750  12/30/2012 14:00   -11.8             -16.1         70               37   \n",
            "8751  12/30/2012 15:00   -11.3             -15.6         70               32   \n",
            "8752  12/30/2012 16:00   -11.4             -15.5         72               26   \n",
            "8756  12/30/2012 20:00   -13.8             -16.5         80               24   \n",
            "\n",
            "      Visibility_km  Press_kPa Weather_Condition  \n",
            "106            48.3     100.45      Mainly Clear  \n",
            "107            48.3     100.41      Mainly Clear  \n",
            "108            48.3     100.38      Mainly Clear  \n",
            "109            48.3     100.40      Mainly Clear  \n",
            "110            48.3     100.46      Mainly Clear  \n",
            "...             ...        ...               ...  \n",
            "8749           48.3     100.92     Mostly Cloudy  \n",
            "8750           48.3     100.96      Mainly Clear  \n",
            "8751           48.3     101.05      Mainly Clear  \n",
            "8752           48.3     101.15      Mainly Clear  \n",
            "8756           25.0     101.52             Clear  \n",
            "\n",
            "[2921 rows x 8 columns]\n"
          ]
        }
      ],
      "source": [
        "# Filter the records based on the given conditions\n",
        "filtered_records = Weathrdt[((Weathrdt['Weather_Condition'] == 'Clear') & (Weathrdt['Rel Hum_%'] > 50)) | (Weathrdt['Visibility_km'] > 40)]\n",
        "# Display the filtered records\n",
        "print(filtered_records)\n"
      ]
    },
    {
      "cell_type": "code",
      "execution_count": null,
      "id": "5ceee525-1a1d-4434-a4ba-be16c6153f26",
      "metadata": {
        "id": "5ceee525-1a1d-4434-a4ba-be16c6153f26"
      },
      "outputs": [],
      "source": []
    }
  ],
  "metadata": {
    "kernelspec": {
      "display_name": "Python 3 (ipykernel)",
      "language": "python",
      "name": "python3"
    },
    "language_info": {
      "codemirror_mode": {
        "name": "ipython",
        "version": 3
      },
      "file_extension": ".py",
      "mimetype": "text/x-python",
      "name": "python",
      "nbconvert_exporter": "python",
      "pygments_lexer": "ipython3",
      "version": "3.12.4"
    },
    "colab": {
      "provenance": [],
      "include_colab_link": true
    }
  },
  "nbformat": 4,
  "nbformat_minor": 5
}
{
  "cells": [
    {
      "cell_type": "markdown",
      "metadata": {
        "id": "view-in-github",
        "colab_type": "text"
      },
      "source": [
        "<a href=\"https://colab.research.google.com/github/WaithiraHawi/LuxProject/blob/main/Weather_dataset.ipynb\" target=\"_parent\"><img src=\"https://colab.research.google.com/assets/colab-badge.svg\" alt=\"Open In Colab\"/></a>"
      ]
    },
    {
      "cell_type": "code",
      "execution_count": null,
      "id": "e80126cb-1d68-430e-bf7a-a53bf0bc6ef4",
      "metadata": {
        "id": "e80126cb-1d68-430e-bf7a-a53bf0bc6ef4"
      },
      "outputs": [],
      "source": [
        "import pandas as pd\n",
        "import numpy as np\n",
        "#Loading dataset\n",
        "weather_file1= 'Weather_dataset.csv'\n",
        "Weathrdt = pd.read_csv(weather_file1)"
      ]
    },
    {
      "cell_type": "code",
      "execution_count": null,
      "id": "ee8c2964-151a-4a6d-81d5-2165baac77e6",
      "metadata": {
        "id": "ee8c2964-151a-4a6d-81d5-2165baac77e6",
        "outputId": "6e8f53da-19a2-4c35-af86-317114e9fe6b"
      },
      "outputs": [
        {
          "name": "stdout",
          "output_type": "stream",
          "text": [
            "Top 10 Rows:\n",
            "       Date/Time  Temp_C  Dew Point Temp_C  Rel Hum_%  Wind Speed_km/h  \\\n",
            "0  1/1/2012 0:00    -1.8              -3.9         86                4   \n",
            "1  1/1/2012 1:00    -1.8              -3.7         87                4   \n",
            "2  1/1/2012 2:00    -1.8              -3.4         89                7   \n",
            "3  1/1/2012 3:00    -1.5              -3.2         88                6   \n",
            "4  1/1/2012 4:00    -1.5              -3.3         88                7   \n",
            "5  1/1/2012 5:00    -1.4              -3.3         87                9   \n",
            "6  1/1/2012 6:00    -1.5              -3.1         89                7   \n",
            "7  1/1/2012 7:00    -1.4              -3.6         85                7   \n",
            "8  1/1/2012 8:00    -1.4              -3.6         85                9   \n",
            "9  1/1/2012 9:00    -1.3              -3.1         88               15   \n",
            "\n",
            "   Visibility_km  Press_kPa               Weather  \n",
            "0            8.0     101.24                   Fog  \n",
            "1            8.0     101.24                   Fog  \n",
            "2            4.0     101.26  Freezing Drizzle,Fog  \n",
            "3            4.0     101.27  Freezing Drizzle,Fog  \n",
            "4            4.8     101.23                   Fog  \n",
            "5            6.4     101.27                   Fog  \n",
            "6            6.4     101.29                   Fog  \n",
            "7            8.0     101.26                   Fog  \n",
            "8            8.0     101.23                   Fog  \n",
            "9            4.0     101.20                   Fog  \n"
          ]
        }
      ],
      "source": [
        "# Displaying the top 10 rows\n",
        "top_10_rows = Weathrdt.head(10)\n",
        "print(\"Top 10 Rows:\")\n",
        "print(top_10_rows)"
      ]
    },
    {
      "cell_type": "code",
      "execution_count": null,
      "id": "22fc48df-c89b-4806-b36c-da10dbcd3c18",
      "metadata": {
        "id": "22fc48df-c89b-4806-b36c-da10dbcd3c18",
        "outputId": "6d91d554-05f7-4dbe-b0e2-d75e86cce89e"
      },
      "outputs": [
        {
          "name": "stdout",
          "output_type": "stream",
          "text": [
            "\n",
            "Last 10 Rows:\n",
            "             Date/Time  Temp_C  Dew Point Temp_C  Rel Hum_%  Wind Speed_km/h  \\\n",
            "8774  12/31/2012 14:00    -3.4              -5.7         84                6   \n",
            "8775  12/31/2012 15:00    -2.3              -4.6         84                9   \n",
            "8776  12/31/2012 16:00    -1.4              -4.0         82               13   \n",
            "8777  12/31/2012 17:00    -1.1              -3.3         85               19   \n",
            "8778  12/31/2012 18:00    -1.3              -3.1         88               17   \n",
            "8779  12/31/2012 19:00     0.1              -2.7         81               30   \n",
            "8780  12/31/2012 20:00     0.2              -2.4         83               24   \n",
            "8781  12/31/2012 21:00    -0.5              -1.5         93               28   \n",
            "8782  12/31/2012 22:00    -0.2              -1.8         89               28   \n",
            "8783  12/31/2012 23:00     0.0              -2.1         86               30   \n",
            "\n",
            "      Visibility_km  Press_kPa Weather  \n",
            "8774           11.3     100.57    Snow  \n",
            "8775            9.7     100.47    Snow  \n",
            "8776           12.9     100.40    Snow  \n",
            "8777            9.7     100.30    Snow  \n",
            "8778            9.7     100.19    Snow  \n",
            "8779            9.7     100.13    Snow  \n",
            "8780            9.7     100.03    Snow  \n",
            "8781            4.8      99.95    Snow  \n",
            "8782            9.7      99.91    Snow  \n",
            "8783           11.3      99.89    Snow  \n"
          ]
        }
      ],
      "source": [
        "# Displaying the last 10 rows\n",
        "last_10_rows = Weathrdt.tail(10)\n",
        "print(\"\\nLast 10 Rows:\")\n",
        "print(last_10_rows)"
      ]
    },
    {
      "cell_type": "code",
      "execution_count": null,
      "id": "f59d4177-672c-4481-b03f-fb14bd10b384",
      "metadata": {
        "id": "f59d4177-672c-4481-b03f-fb14bd10b384",
        "outputId": "089b727b-f0b0-41b7-faad-d853352b2f4c"
      },
      "outputs": [
        {
          "name": "stdout",
          "output_type": "stream",
          "text": [
            "\n",
            "Total Rows: 8784\n",
            "Total Columns: 8\n"
          ]
        }
      ],
      "source": [
        "# Getting total number of rows and columns in the dataset Weather\n",
        "total_rows, total_columns = Weathrdt.shape\n",
        "print(f\"\\nTotal Rows: {total_rows}\")\n",
        "print(f\"Total Columns: {total_columns}\")"
      ]
    },
    {
      "cell_type": "code",
      "execution_count": null,
      "id": "31bd4156-45f3-4ba7-82e9-8019775fa8cd",
      "metadata": {
        "id": "31bd4156-45f3-4ba7-82e9-8019775fa8cd",
        "outputId": "aff13119-44b6-4b88-96ad-6c277ee7e302"
      },
      "outputs": [
        {
          "data": {
            "text/html": [
              "<div>\n",
              "<style scoped>\n",
              "    .dataframe tbody tr th:only-of-type {\n",
              "        vertical-align: middle;\n",
              "    }\n",
              "\n",
              "    .dataframe tbody tr th {\n",
              "        vertical-align: top;\n",
              "    }\n",
              "\n",
              "    .dataframe thead th {\n",
              "        text-align: right;\n",
              "    }\n",
              "</style>\n",
              "<table border=\"1\" class=\"dataframe\">\n",
              "  <thead>\n",
              "    <tr style=\"text-align: right;\">\n",
              "      <th></th>\n",
              "      <th>Date/Time</th>\n",
              "      <th>Temp_C</th>\n",
              "      <th>Dew Point Temp_C</th>\n",
              "      <th>Rel Hum_%</th>\n",
              "      <th>Wind Speed_km/h</th>\n",
              "      <th>Visibility_km</th>\n",
              "      <th>Press_kPa</th>\n",
              "      <th>Weather</th>\n",
              "    </tr>\n",
              "  </thead>\n",
              "  <tbody>\n",
              "    <tr>\n",
              "      <th>0</th>\n",
              "      <td>1/1/2012 0:00</td>\n",
              "      <td>-1.8</td>\n",
              "      <td>-3.9</td>\n",
              "      <td>86</td>\n",
              "      <td>4</td>\n",
              "      <td>8.0</td>\n",
              "      <td>101.24</td>\n",
              "      <td>Fog</td>\n",
              "    </tr>\n",
              "    <tr>\n",
              "      <th>1</th>\n",
              "      <td>1/1/2012 1:00</td>\n",
              "      <td>-1.8</td>\n",
              "      <td>-3.7</td>\n",
              "      <td>87</td>\n",
              "      <td>4</td>\n",
              "      <td>8.0</td>\n",
              "      <td>101.24</td>\n",
              "      <td>Fog</td>\n",
              "    </tr>\n",
              "    <tr>\n",
              "      <th>2</th>\n",
              "      <td>1/1/2012 2:00</td>\n",
              "      <td>-1.8</td>\n",
              "      <td>-3.4</td>\n",
              "      <td>89</td>\n",
              "      <td>7</td>\n",
              "      <td>4.0</td>\n",
              "      <td>101.26</td>\n",
              "      <td>Freezing Drizzle,Fog</td>\n",
              "    </tr>\n",
              "    <tr>\n",
              "      <th>3</th>\n",
              "      <td>1/1/2012 3:00</td>\n",
              "      <td>-1.5</td>\n",
              "      <td>-3.2</td>\n",
              "      <td>88</td>\n",
              "      <td>6</td>\n",
              "      <td>4.0</td>\n",
              "      <td>101.27</td>\n",
              "      <td>Freezing Drizzle,Fog</td>\n",
              "    </tr>\n",
              "    <tr>\n",
              "      <th>4</th>\n",
              "      <td>1/1/2012 4:00</td>\n",
              "      <td>-1.5</td>\n",
              "      <td>-3.3</td>\n",
              "      <td>88</td>\n",
              "      <td>7</td>\n",
              "      <td>4.8</td>\n",
              "      <td>101.23</td>\n",
              "      <td>Fog</td>\n",
              "    </tr>\n",
              "  </tbody>\n",
              "</table>\n",
              "</div>"
            ],
            "text/plain": [
              "       Date/Time  Temp_C  Dew Point Temp_C  Rel Hum_%  Wind Speed_km/h  \\\n",
              "0  1/1/2012 0:00    -1.8              -3.9         86                4   \n",
              "1  1/1/2012 1:00    -1.8              -3.7         87                4   \n",
              "2  1/1/2012 2:00    -1.8              -3.4         89                7   \n",
              "3  1/1/2012 3:00    -1.5              -3.2         88                6   \n",
              "4  1/1/2012 4:00    -1.5              -3.3         88                7   \n",
              "\n",
              "   Visibility_km  Press_kPa               Weather  \n",
              "0            8.0     101.24                   Fog  \n",
              "1            8.0     101.24                   Fog  \n",
              "2            4.0     101.26  Freezing Drizzle,Fog  \n",
              "3            4.0     101.27  Freezing Drizzle,Fog  \n",
              "4            4.8     101.23                   Fog  "
            ]
          },
          "execution_count": 45,
          "metadata": {},
          "output_type": "execute_result"
        }
      ],
      "source": [
        "Weathrdt.head()"
      ]
    },
    {
      "cell_type": "code",
      "execution_count": null,
      "id": "977a6e69-f53e-4817-8270-467fe4eecf15",
      "metadata": {
        "id": "977a6e69-f53e-4817-8270-467fe4eecf15",
        "outputId": "32145e77-5437-449a-9866-07eaea0c39a3"
      },
      "outputs": [
        {
          "data": {
            "text/html": [
              "<div>\n",
              "<style scoped>\n",
              "    .dataframe tbody tr th:only-of-type {\n",
              "        vertical-align: middle;\n",
              "    }\n",
              "\n",
              "    .dataframe tbody tr th {\n",
              "        vertical-align: top;\n",
              "    }\n",
              "\n",
              "    .dataframe thead th {\n",
              "        text-align: right;\n",
              "    }\n",
              "</style>\n",
              "<table border=\"1\" class=\"dataframe\">\n",
              "  <thead>\n",
              "    <tr style=\"text-align: right;\">\n",
              "      <th></th>\n",
              "      <th>Temp_C</th>\n",
              "      <th>Dew Point Temp_C</th>\n",
              "      <th>Rel Hum_%</th>\n",
              "      <th>Wind Speed_km/h</th>\n",
              "      <th>Visibility_km</th>\n",
              "      <th>Press_kPa</th>\n",
              "    </tr>\n",
              "  </thead>\n",
              "  <tbody>\n",
              "    <tr>\n",
              "      <th>count</th>\n",
              "      <td>8784.000000</td>\n",
              "      <td>8784.000000</td>\n",
              "      <td>8784.000000</td>\n",
              "      <td>8784.000000</td>\n",
              "      <td>8784.000000</td>\n",
              "      <td>8784.000000</td>\n",
              "    </tr>\n",
              "    <tr>\n",
              "      <th>mean</th>\n",
              "      <td>8.798144</td>\n",
              "      <td>2.555294</td>\n",
              "      <td>67.431694</td>\n",
              "      <td>14.945469</td>\n",
              "      <td>27.664447</td>\n",
              "      <td>101.051623</td>\n",
              "    </tr>\n",
              "    <tr>\n",
              "      <th>std</th>\n",
              "      <td>11.687883</td>\n",
              "      <td>10.883072</td>\n",
              "      <td>16.918881</td>\n",
              "      <td>8.688696</td>\n",
              "      <td>12.622688</td>\n",
              "      <td>0.844005</td>\n",
              "    </tr>\n",
              "    <tr>\n",
              "      <th>min</th>\n",
              "      <td>-23.300000</td>\n",
              "      <td>-28.500000</td>\n",
              "      <td>18.000000</td>\n",
              "      <td>0.000000</td>\n",
              "      <td>0.200000</td>\n",
              "      <td>97.520000</td>\n",
              "    </tr>\n",
              "    <tr>\n",
              "      <th>25%</th>\n",
              "      <td>0.100000</td>\n",
              "      <td>-5.900000</td>\n",
              "      <td>56.000000</td>\n",
              "      <td>9.000000</td>\n",
              "      <td>24.100000</td>\n",
              "      <td>100.560000</td>\n",
              "    </tr>\n",
              "    <tr>\n",
              "      <th>50%</th>\n",
              "      <td>9.300000</td>\n",
              "      <td>3.300000</td>\n",
              "      <td>68.000000</td>\n",
              "      <td>13.000000</td>\n",
              "      <td>25.000000</td>\n",
              "      <td>101.070000</td>\n",
              "    </tr>\n",
              "    <tr>\n",
              "      <th>75%</th>\n",
              "      <td>18.800000</td>\n",
              "      <td>11.800000</td>\n",
              "      <td>81.000000</td>\n",
              "      <td>20.000000</td>\n",
              "      <td>25.000000</td>\n",
              "      <td>101.590000</td>\n",
              "    </tr>\n",
              "    <tr>\n",
              "      <th>max</th>\n",
              "      <td>33.000000</td>\n",
              "      <td>24.400000</td>\n",
              "      <td>100.000000</td>\n",
              "      <td>83.000000</td>\n",
              "      <td>48.300000</td>\n",
              "      <td>103.650000</td>\n",
              "    </tr>\n",
              "  </tbody>\n",
              "</table>\n",
              "</div>"
            ],
            "text/plain": [
              "            Temp_C  Dew Point Temp_C    Rel Hum_%  Wind Speed_km/h  \\\n",
              "count  8784.000000       8784.000000  8784.000000      8784.000000   \n",
              "mean      8.798144          2.555294    67.431694        14.945469   \n",
              "std      11.687883         10.883072    16.918881         8.688696   \n",
              "min     -23.300000        -28.500000    18.000000         0.000000   \n",
              "25%       0.100000         -5.900000    56.000000         9.000000   \n",
              "50%       9.300000          3.300000    68.000000        13.000000   \n",
              "75%      18.800000         11.800000    81.000000        20.000000   \n",
              "max      33.000000         24.400000   100.000000        83.000000   \n",
              "\n",
              "       Visibility_km    Press_kPa  \n",
              "count    8784.000000  8784.000000  \n",
              "mean       27.664447   101.051623  \n",
              "std        12.622688     0.844005  \n",
              "min         0.200000    97.520000  \n",
              "25%        24.100000   100.560000  \n",
              "50%        25.000000   101.070000  \n",
              "75%        25.000000   101.590000  \n",
              "max        48.300000   103.650000  "
            ]
          },
          "execution_count": 47,
          "metadata": {},
          "output_type": "execute_result"
        }
      ],
      "source": [
        "Weathrdt.describe()"
      ]
    }
  ],
  "metadata": {
    "kernelspec": {
      "display_name": "Python 3 (ipykernel)",
      "language": "python",
      "name": "python3"
    },
    "language_info": {
      "codemirror_mode": {
        "name": "ipython",
        "version": 3
      },
      "file_extension": ".py",
      "mimetype": "text/x-python",
      "name": "python",
      "nbconvert_exporter": "python",
      "pygments_lexer": "ipython3",
      "version": "3.12.4"
    },
    "colab": {
      "provenance": [],
      "include_colab_link": true
    }
  },
  "nbformat": 4,
  "nbformat_minor": 5
}
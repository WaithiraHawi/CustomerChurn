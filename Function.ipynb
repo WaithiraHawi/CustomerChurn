{
  "cells": [
    {
      "cell_type": "markdown",
      "metadata": {
        "id": "view-in-github",
        "colab_type": "text"
      },
      "source": [
        "<a href=\"https://colab.research.google.com/github/WaithiraHawi/LuxProject/blob/main/Function.ipynb\" target=\"_parent\"><img src=\"https://colab.research.google.com/assets/colab-badge.svg\" alt=\"Open In Colab\"/></a>"
      ]
    },
    {
      "cell_type": "code",
      "execution_count": null,
      "id": "00f275a4-7253-4df8-96b3-8322de41157b",
      "metadata": {
        "id": "00f275a4-7253-4df8-96b3-8322de41157b",
        "outputId": "7f24da58-a1f4-4f8d-8783-d9445a926592"
      },
      "outputs": [
        {
          "name": "stdin",
          "output_type": "stream",
          "text": [
            "Enter a string:  Hawi\n"
          ]
        },
        {
          "name": "stdout",
          "output_type": "stream",
          "text": [
            "String is not a palindrome.\n"
          ]
        }
      ],
      "source": [
        "# Python code to check if a string is a palindrome, not using a stack.\n",
        "class Stack:\n",
        "    def __init__(slf):\n",
        "      # Initializing an empty list to represent the stack\n",
        "        slf.stack = []\n",
        "\n",
        "    def push(slf, itm):\n",
        "       # Adding an item to top of stack\n",
        "        slf.stack.append(itm)\n",
        "\n",
        "    def pop(slf):\n",
        "      # Removing and returning the top item from the stack, if not empty\n",
        "        if not slf.is_empty():\n",
        "            return slf.stack.pop()\n",
        "        else:\n",
        "            return None\n",
        "\n",
        "    def is_empty(slf):\n",
        "      # Checking if stack is empty by checking the list length\n",
        "        return len(slf.stack) == 0\n",
        "\n",
        "def is_palindrome(s):\n",
        "  # Creating the instance of Stack class\n",
        "    stack = Stack()\n",
        "     # Pushing every character of string onto the stack\n",
        "    for char in r:\n",
        "        stack.push(char)\n",
        "\n",
        "# Initializing an empty string for storing reversed version of input string\n",
        "    reversed_r = ''\n",
        "    # Pop characters from stack that builds reversed string\n",
        "    while not stack.is_empty():\n",
        "        reversed_r += stack.pop()\n",
        " # Comparison of reversed string with original string\n",
        "    return r == reversed_r\n",
        "\n",
        "# Testing a function\n",
        "r = input(\"Enter a string: \")\n",
        "if is_palindrome(r):\n",
        "    print(\"String is a palindrome.\")\n",
        "else:\n",
        "    print('String is not a palindrome.')"
      ]
    },
    {
      "cell_type": "code",
      "execution_count": null,
      "id": "081eb822-a683-4b29-a163-28816ebcc8ee",
      "metadata": {
        "id": "081eb822-a683-4b29-a163-28816ebcc8ee",
        "outputId": "a642c7ab-ca81-4cbf-f53c-5424ef3ddeaa"
      },
      "outputs": [
        {
          "name": "stdout",
          "output_type": "stream",
          "text": [
            "[1, 4, 9, 16, 25]\n",
            "['Nairobi', 'Kiambu', 'Nyamira', 'Kisii', 'Turkana']\n",
            "False\n",
            "[([1, 2, 3, 4, 5], ['Nairobi', 'Kiambu', 'Nyamira', 'Kisii', 'Turkana']), ([1, 2, 3, 4, 5], ['Nairobi', 'Kiambu', 'Nyamira', 'Kisii', 'Turkana']), ([1, 2, 3, 4, 5], ['Nairobi', 'Kiambu', 'Nyamira', 'Kisii', 'Turkana']), ([1, 2, 3, 4, 5], ['Nairobi', 'Kiambu', 'Nyamira', 'Kisii', 'Turkana']), ([1, 2, 3, 4, 5], ['Nairobi', 'Kiambu', 'Nyamira', 'Kisii', 'Turkana']), ([1, 2, 3, 4, 5], ['Nairobi', 'Kiambu', 'Nyamira', 'Kisii', 'Turkana']), ([1, 2, 3, 4, 5], ['Nairobi', 'Kiambu', 'Nyamira', 'Kisii', 'Turkana']), ([1, 2, 3, 4, 5], ['Nairobi', 'Kiambu', 'Nyamira', 'Kisii', 'Turkana']), ([1, 2, 3, 4, 5], ['Nairobi', 'Kiambu', 'Nyamira', 'Kisii', 'Turkana']), ([1, 2, 3, 4, 5], ['Nairobi', 'Kiambu', 'Nyamira', 'Kisii', 'Turkana']), ([1, 2, 3, 4, 5], ['Nairobi', 'Kiambu', 'Nyamira', 'Kisii', 'Turkana']), ([1, 2, 3, 4, 5], ['Nairobi', 'Kiambu', 'Nyamira', 'Kisii', 'Turkana']), ([1, 2, 3, 4, 5], ['Nairobi', 'Kiambu', 'Nyamira', 'Kisii', 'Turkana']), ([1, 2, 3, 4, 5], ['Nairobi', 'Kiambu', 'Nyamira', 'Kisii', 'Turkana']), ([1, 2, 3, 4, 5], ['Nairobi', 'Kiambu', 'Nyamira', 'Kisii', 'Turkana']), ([1, 2, 3, 4, 5], ['Nairobi', 'Kiambu', 'Nyamira', 'Kisii', 'Turkana']), ([1, 2, 3, 4, 5], ['Nairobi', 'Kiambu', 'Nyamira', 'Kisii', 'Turkana']), ([1, 2, 3, 4, 5], ['Nairobi', 'Kiambu', 'Nyamira', 'Kisii', 'Turkana']), ([1, 2, 3, 4, 5], ['Nairobi', 'Kiambu', 'Nyamira', 'Kisii', 'Turkana']), ([1, 2, 3, 4, 5], ['Nairobi', 'Kiambu', 'Nyamira', 'Kisii', 'Turkana']), ([1, 2, 3, 4, 5], ['Nairobi', 'Kiambu', 'Nyamira', 'Kisii', 'Turkana']), ([1, 2, 3, 4, 5], ['Nairobi', 'Kiambu', 'Nyamira', 'Kisii', 'Turkana']), ([1, 2, 3, 4, 5], ['Nairobi', 'Kiambu', 'Nyamira', 'Kisii', 'Turkana']), ([1, 2, 3, 4, 5], ['Nairobi', 'Kiambu', 'Nyamira', 'Kisii', 'Turkana']), ([1, 2, 3, 4, 5], ['Nairobi', 'Kiambu', 'Nyamira', 'Kisii', 'Turkana'])]\n"
          ]
        }
      ],
      "source": [
        "# List Comprehension in Python\n",
        "\n",
        "# Square numbers\n",
        "numbers = [1, 2, 3, 4, 5]\n",
        "squared_numbers = [x**2 for x in numbers]\n",
        "print(squared_numbers)  # [1, 4, 9, 16, 25]\n",
        "#filter strings\n",
        "counties = ['Nairobi', 'Kiambu', 'Nyamira', 'Kisii', 'Turkana']\n",
        "kenya_counties = [county for county in counties if len(counties)]\n",
        "print(kenya_counties)\n",
        "print(kenya_counties == 3)\n",
        "\n",
        "#Combine lists\n",
        "the_num= [1, 2, 3, 4, 5]\n",
        "counties = ['Nairobi', 'Kiambu', 'Nyamira', 'Kisii', 'Turkana']\n",
        "combn_pairs = [(the_num, counties) for number in the_num for county in counties]\n",
        "print(combn_pairs)"
      ]
    },
    {
      "cell_type": "code",
      "execution_count": null,
      "id": "d0e14580-d130-456d-a10b-2f82dd05e0b8",
      "metadata": {
        "id": "d0e14580-d130-456d-a10b-2f82dd05e0b8",
        "outputId": "c07f7e43-aebc-4882-906e-2a20933b7700"
      },
      "outputs": [
        {
          "name": "stdout",
          "output_type": "stream",
          "text": [
            "[1, 2, 3, 'hi', 4.5, [6, 7, 8]]\n",
            "(1, 2, 3, 'hi', 4.5, (6, 7, 8))\n",
            "{'my_name': 'Hawi', 'age': 4, 'county': 'Nairobi', 'hobbies': ['coloring', 'singing', 'playing']}\n"
          ]
        }
      ],
      "source": [
        "# A compound datatype in Python\n",
        "\n",
        "#Lists\n",
        "my_list = [1, 2, 3, 'hi', 4.5, [6, 7, 8]]\n",
        "print(my_list)  # [1, 2, 3, 'hi', 4.5, [6, 7, 8]]\n",
        "\n",
        "#Tuples\n",
        "my_tuple = (1, 2, 3, 'hi', 4.5, (6, 7, 8))\n",
        "print(my_tuple)  # (1, 2, 3, 'hi', 4.5, (6, 7, 8))\n",
        "\n",
        "#Dictionaries\n",
        "my_dict = {'my_name': 'Hawi', 'age': 4, 'county': 'Nairobi', 'hobbies': ['coloring', 'singing', 'playing']}\n",
        "print(my_dict)  # {'my_name': 'Hawi', 'age': 4, 'county': 'Nairobi', 'hobbies': ['coloring', 'singing', 'playing']}"
      ]
    },
    {
      "cell_type": "code",
      "execution_count": null,
      "id": "5d6c3498-a915-460d-8b51-1b8f7b5966c2",
      "metadata": {
        "id": "5d6c3498-a915-460d-8b51-1b8f7b5966c2",
        "outputId": "cb405460-6b1a-4c85-f98c-2afcc31ef3f0"
      },
      "outputs": [
        {
          "name": "stdout",
          "output_type": "stream",
          "text": [
            "['ha', 'aw', 'wi']\n"
          ]
        }
      ],
      "source": [
        "# Function that takes a string and returns a list of bigrams\n",
        "\n",
        "def string_to_bigrams(r):\n",
        "    \"\"\"\n",
        "    Return the list of bigrams from string r\n",
        "\n",
        "    param r: the input string\n",
        "    return: the list of bigrams\n",
        "    \"\"\"\n",
        "# Using th list comprehension to create a list of bigrams\n",
        "# The range(len(r) - 1) ensures code stops at the second-to-last character\n",
        "# r[l:l+2] extracts two consecutive characters (a bigram) from string r\n",
        "    return [r[l:l+2] for l in range(len(r)-1)]\n",
        "\n",
        "# Testing bigrams\n",
        "r = \"hawi\"\n",
        "bigram_r= string_to_bigrams(r)\n",
        "print(bigram_r)"
      ]
    },
    {
      "cell_type": "code",
      "execution_count": null,
      "id": "35cf7170-1268-4e26-a9f7-a2982d274c15",
      "metadata": {
        "id": "35cf7170-1268-4e26-a9f7-a2982d274c15",
        "outputId": "9109a36a-6af2-4e3a-f71c-0a66ba2ad053"
      },
      "outputs": [
        {
          "name": "stdout",
          "output_type": "stream",
          "text": [
            "Has_Beaches\n"
          ]
        }
      ],
      "source": [
        "# A function closest_key to find key with input value closest to the beginning of the list\n",
        "def closest_key(dictionary, value):\n",
        "    \"\"\"\n",
        "    Return the key with input value closest to beginning of the list.\n",
        "\n",
        "    param dictionary: a dictionary with the keys as letters, the values as the lists of letters\n",
        "    param value: input value to be searched\n",
        "    :return: key with the input value closest to the beginning of the list\n",
        "    \"\"\"\n",
        "    # Initializing the variables that keep track of minimum index and closest key\n",
        "    closest_key = None\n",
        "    min_index = float('inf') # Setting value to infinity initially to obtain minimum index\n",
        "\n",
        "    # Iterating over dictionary items (key-value pairs)\n",
        "    for key, values in dictionary.items():\n",
        "    # Checking if the value exists in list of values for current key\n",
        "        if value in values:\n",
        "    # Finding index of input value in a list\n",
        "            index = values.index(value)\n",
        "    # If index is closer to beginning than current minimum, update\n",
        "            if index < min_index:\n",
        "                min_index = index\n",
        "                closest_key = key # Updating closest key\n",
        "# Return the key with input value closest to beginning of the list\n",
        "    return closest_key\n",
        "\n",
        "# testing the function\n",
        "Kenya_counties = {\n",
        "    'Counties': ['Nairobi', 'Kisumu', 'Mombasa'],\n",
        "    'Cities': ['Kisumu', 'Mombasa'],\n",
        "    'Has_Beaches': ['Mombasa', 'Kisumu']\n",
        "}\n",
        "value_to_search = 'Mombasa'\n",
        "result = closest_key(Kenya_counties, value_to_search)\n",
        "print(result)"
      ]
    },
    {
      "cell_type": "code",
      "execution_count": null,
      "id": "486fb615-6d54-4811-b6fd-c8cdfd5df5fb",
      "metadata": {
        "id": "486fb615-6d54-4811-b6fd-c8cdfd5df5fb"
      },
      "outputs": [],
      "source": []
    }
  ],
  "metadata": {
    "kernelspec": {
      "display_name": "Python 3 (ipykernel)",
      "language": "python",
      "name": "python3"
    },
    "language_info": {
      "codemirror_mode": {
        "name": "ipython",
        "version": 3
      },
      "file_extension": ".py",
      "mimetype": "text/x-python",
      "name": "python",
      "nbconvert_exporter": "python",
      "pygments_lexer": "ipython3",
      "version": "3.12.4"
    },
    "colab": {
      "provenance": [],
      "include_colab_link": true
    }
  },
  "nbformat": 4,
  "nbformat_minor": 5
}